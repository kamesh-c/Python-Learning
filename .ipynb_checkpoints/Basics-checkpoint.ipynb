{
 "cells": [
  {
   "cell_type": "markdown",
   "metadata": {
    "colab_type": "text",
    "id": "Ng9aRGLV5CXy"
   },
   "source": [
    " Python Learning \n",
    " ==============\n",
    " ###### Basic Types\n",
    " ###### Python is *weekly type* programing language\n",
    " ###### While runing the code - it will detect the type of variable\n"
   ]
  },
  {
   "cell_type": "markdown",
   "metadata": {},
   "source": [
    "![Python Learning](Python Types.png)"
   ]
  },
  {
   "cell_type": "code",
   "execution_count": 0,
   "metadata": {
    "colab": {
     "base_uri": "https://localhost:8080/",
     "height": 68
    },
    "colab_type": "code",
    "executionInfo": {
     "elapsed": 1694,
     "status": "ok",
     "timestamp": 1566973394497,
     "user": {
      "displayName": "Kamesh C",
      "photoUrl": "https://lh3.googleusercontent.com/a-/AAuE7mCaxGNZrKO-WLbWFklLflG-0EzrFygEkBK57F_sZw=s64",
      "userId": "12819675306827091975"
     },
     "user_tz": -480
    },
    "id": "6POqhms05CXz",
    "outputId": "c7644a98-e438-451a-c599-6c5807165bd6"
   },
   "outputs": [
    {
     "name": "stdout",
     "output_type": "stream",
     "text": [
      "100\n",
      "<class 'int'>\n"
     ]
    },
    {
     "data": {
      "text/plain": [
       "int"
      ]
     },
     "execution_count": 1,
     "metadata": {
      "tags": []
     },
     "output_type": "execute_result"
    }
   ],
   "source": [
    "# Below example is detect the value as int on executions\n",
    "i = 100\n",
    "print(i)\n",
    "print(type(i))\n",
    "type(i)"
   ]
  },
  {
   "cell_type": "code",
   "execution_count": 0,
   "metadata": {
    "colab": {
     "base_uri": "https://localhost:8080/",
     "height": 68
    },
    "colab_type": "code",
    "executionInfo": {
     "elapsed": 1658,
     "status": "ok",
     "timestamp": 1566973398102,
     "user": {
      "displayName": "Kamesh C",
      "photoUrl": "https://lh3.googleusercontent.com/a-/AAuE7mCaxGNZrKO-WLbWFklLflG-0EzrFygEkBK57F_sZw=s64",
      "userId": "12819675306827091975"
     },
     "user_tz": -480
    },
    "id": "e7u_dBn45CX3",
    "outputId": "00dc5595-2b9f-4ad5-f0f8-62f34b127077"
   },
   "outputs": [
    {
     "name": "stdout",
     "output_type": "stream",
     "text": [
      "100\n",
      "<class 'str'>\n"
     ]
    },
    {
     "data": {
      "text/plain": [
       "str"
      ]
     },
     "execution_count": 2,
     "metadata": {
      "tags": []
     },
     "output_type": "execute_result"
    }
   ],
   "source": [
    "# Below example is detect the value as String on executions\n",
    "string = \"100\"\n",
    "print(string)\n",
    "print(type(string))\n",
    "type(string)"
   ]
  },
  {
   "cell_type": "code",
   "execution_count": 0,
   "metadata": {
    "colab": {
     "base_uri": "https://localhost:8080/",
     "height": 68
    },
    "colab_type": "code",
    "executionInfo": {
     "elapsed": 1668,
     "status": "ok",
     "timestamp": 1566973410023,
     "user": {
      "displayName": "Kamesh C",
      "photoUrl": "https://lh3.googleusercontent.com/a-/AAuE7mCaxGNZrKO-WLbWFklLflG-0EzrFygEkBK57F_sZw=s64",
      "userId": "12819675306827091975"
     },
     "user_tz": -480
    },
    "id": "3aRDiIpg5CX6",
    "outputId": "710ebceb-742d-4a0e-a86c-a7f5bc0456b2"
   },
   "outputs": [
    {
     "name": "stdout",
     "output_type": "stream",
     "text": [
      "100.0\n",
      "<class 'float'>\n"
     ]
    },
    {
     "data": {
      "text/plain": [
       "float"
      ]
     },
     "execution_count": 3,
     "metadata": {
      "tags": []
     },
     "output_type": "execute_result"
    }
   ],
   "source": [
    "# Below example is detect the value as float on executions\n",
    "floatingNumber = 100.00\n",
    "print(floatingNumber)\n",
    "print(type(floatingNumber))\n",
    "type(floatingNumber)"
   ]
  },
  {
   "cell_type": "code",
   "execution_count": 0,
   "metadata": {
    "colab": {
     "base_uri": "https://localhost:8080/",
     "height": 51
    },
    "colab_type": "code",
    "executionInfo": {
     "elapsed": 768,
     "status": "ok",
     "timestamp": 1566973416634,
     "user": {
      "displayName": "Kamesh C",
      "photoUrl": "https://lh3.googleusercontent.com/a-/AAuE7mCaxGNZrKO-WLbWFklLflG-0EzrFygEkBK57F_sZw=s64",
      "userId": "12819675306827091975"
     },
     "user_tz": -480
    },
    "id": "AwavHkOA5CX8",
    "outputId": "e069ec95-0e47-4685-e3e2-18d9fcb75610"
   },
   "outputs": [
    {
     "name": "stdout",
     "output_type": "stream",
     "text": [
      "<class 'range'>\n"
     ]
    },
    {
     "data": {
      "text/plain": [
       "range(1, 100)"
      ]
     },
     "execution_count": 4,
     "metadata": {
      "tags": []
     },
     "output_type": "execute_result"
    }
   ],
   "source": [
    "#List of\n",
    "l = range(1,100)\n",
    "print(type(l))\n",
    "l\n"
   ]
  },
  {
   "cell_type": "code",
   "execution_count": 0,
   "metadata": {
    "colab": {
     "base_uri": "https://localhost:8080/",
     "height": 34
    },
    "colab_type": "code",
    "executionInfo": {
     "elapsed": 736,
     "status": "ok",
     "timestamp": 1566973422207,
     "user": {
      "displayName": "Kamesh C",
      "photoUrl": "https://lh3.googleusercontent.com/a-/AAuE7mCaxGNZrKO-WLbWFklLflG-0EzrFygEkBK57F_sZw=s64",
      "userId": "12819675306827091975"
     },
     "user_tz": -480
    },
    "id": "3vHkGtEV5CX-",
    "outputId": "f15bba72-30f1-47b5-c374-29a14c43fe24"
   },
   "outputs": [
    {
     "name": "stdout",
     "output_type": "stream",
     "text": [
      "4950\n"
     ]
    }
   ],
   "source": [
    "#For Looping \n",
    "# Indentations is the scope of a given segment (i.e in Java {} will define the segment of give code)\n",
    "res = 0\n",
    "for i in l:\n",
    "    res += i\n",
    "print(res)"
   ]
  },
  {
   "cell_type": "code",
   "execution_count": 0,
   "metadata": {
    "colab": {
     "base_uri": "https://localhost:8080/",
     "height": 34
    },
    "colab_type": "code",
    "executionInfo": {
     "elapsed": 734,
     "status": "ok",
     "timestamp": 1566973426281,
     "user": {
      "displayName": "Kamesh C",
      "photoUrl": "https://lh3.googleusercontent.com/a-/AAuE7mCaxGNZrKO-WLbWFklLflG-0EzrFygEkBK57F_sZw=s64",
      "userId": "12819675306827091975"
     },
     "user_tz": -480
    },
    "id": "8AxksSQU5CYB",
    "outputId": "0af23be7-9386-4db9-bb1e-fc9e03caaac4",
    "scrolled": true
   },
   "outputs": [
    {
     "name": "stdout",
     "output_type": "stream",
     "text": [
      "Result [ 2450 ]\n"
     ]
    }
   ],
   "source": [
    "#Looping in Python and adding only even numbers\n",
    "# additions mod logic check only the even numbers in \n",
    "res = 0\n",
    "for i in l:\n",
    "    # % returns the remainder\n",
    "    if (i%2 == 0):\n",
    "        res += i\n",
    "print(\"Result [\", res, \"]\")"
   ]
  },
  {
   "cell_type": "code",
   "execution_count": 0,
   "metadata": {
    "colab": {
     "base_uri": "https://localhost:8080/",
     "height": 34
    },
    "colab_type": "code",
    "executionInfo": {
     "elapsed": 739,
     "status": "ok",
     "timestamp": 1566973429913,
     "user": {
      "displayName": "Kamesh C",
      "photoUrl": "https://lh3.googleusercontent.com/a-/AAuE7mCaxGNZrKO-WLbWFklLflG-0EzrFygEkBK57F_sZw=s64",
      "userId": "12819675306827091975"
     },
     "user_tz": -480
    },
    "id": "tvVjVHLo5CYD",
    "outputId": "b1583a54-d840-4362-b063-1295d26787f5"
   },
   "outputs": [
    {
     "name": "stdout",
     "output_type": "stream",
     "text": [
      "5050\n"
     ]
    }
   ],
   "source": [
    "# While Loop\n",
    "\n",
    "res = 0\n",
    "i=1\n",
    "while( i <= 100): \n",
    "    res += i\n",
    "    i +=1\n",
    "print(res)"
   ]
  },
  {
   "cell_type": "code",
   "execution_count": 0,
   "metadata": {
    "colab": {},
    "colab_type": "code",
    "id": "r8HQ8L5q5CYF"
   },
   "outputs": [],
   "source": [
    "# Multiple Line executions in single line of command - Not working \n",
    "#res = 0\n",
    "#for i in l : if (i%2 == 0) : res += i ;\n",
    "#print(\"Result [\", res, \"]\")\n",
    "\n"
   ]
  },
  {
   "cell_type": "code",
   "execution_count": 0,
   "metadata": {
    "colab": {
     "base_uri": "https://localhost:8080/",
     "height": 34
    },
    "colab_type": "code",
    "executionInfo": {
     "elapsed": 716,
     "status": "ok",
     "timestamp": 1566973434705,
     "user": {
      "displayName": "Kamesh C",
      "photoUrl": "https://lh3.googleusercontent.com/a-/AAuE7mCaxGNZrKO-WLbWFklLflG-0EzrFygEkBK57F_sZw=s64",
      "userId": "12819675306827091975"
     },
     "user_tz": -480
    },
    "id": "W7GdnWaR5CYH",
    "outputId": "eed01756-4e60-4e46-a33c-9f9458fbeb47"
   },
   "outputs": [
    {
     "data": {
      "text/plain": [
       "55"
      ]
     },
     "execution_count": 8,
     "metadata": {
      "tags": []
     },
     "output_type": "execute_result"
    }
   ],
   "source": [
    "# Functions in Python \n",
    "# Adding the numbers to compute the sum of give range\n",
    "\n",
    "def sum(lb, ub):\n",
    "    total = 0 \n",
    "    while (lb <= ub):\n",
    "        total += lb\n",
    "        lb += 1\n",
    "    return total\n",
    "\n",
    "sum(1,10)"
   ]
  },
  {
   "cell_type": "code",
   "execution_count": 0,
   "metadata": {
    "colab": {
     "base_uri": "https://localhost:8080/",
     "height": 68
    },
    "colab_type": "code",
    "executionInfo": {
     "elapsed": 737,
     "status": "ok",
     "timestamp": 1566973438482,
     "user": {
      "displayName": "Kamesh C",
      "photoUrl": "https://lh3.googleusercontent.com/a-/AAuE7mCaxGNZrKO-WLbWFklLflG-0EzrFygEkBK57F_sZw=s64",
      "userId": "12819675306827091975"
     },
     "user_tz": -480
    },
    "id": "PDDSU5DV5CYK",
    "outputId": "bfce2692-532c-4111-9c09-b9e5ed9e93ce"
   },
   "outputs": [
    {
     "name": "stdout",
     "output_type": "stream",
     "text": [
      "Simple Fucntion 55\n",
      "Sqr fucntion 385\n",
      "Cube fucntion 3025\n"
     ]
    }
   ],
   "source": [
    "# Callable functions as argument\n",
    "# Method will call another fuction to compute the value such as squre of a number, cube of number, and etc\n",
    "\n",
    "def compute( func, lb, ub):\n",
    "    total = 0\n",
    "    while ( lb <= ub):\n",
    "        total += func(lb)\n",
    "        lb+=1\n",
    "    return total\n",
    "\n",
    "def fun(i):\n",
    "    return i\n",
    "\n",
    "def sqr(i):\n",
    "    return i * i\n",
    "\n",
    "def cube(i):\n",
    "    return i * i * i\n",
    "\n",
    "print(\"Simple Fucntion\" , compute(fun, 1, 10))\n",
    "print( \"Sqr fucntion\",  compute(sqr, 1, 10))\n",
    "print( \"Cube fucntion\",  compute(cube, 1, 10))"
   ]
  },
  {
   "cell_type": "code",
   "execution_count": 0,
   "metadata": {
    "colab": {
     "base_uri": "https://localhost:8080/",
     "height": 68
    },
    "colab_type": "code",
    "executionInfo": {
     "elapsed": 708,
     "status": "ok",
     "timestamp": 1566973442063,
     "user": {
      "displayName": "Kamesh C",
      "photoUrl": "https://lh3.googleusercontent.com/a-/AAuE7mCaxGNZrKO-WLbWFklLflG-0EzrFygEkBK57F_sZw=s64",
      "userId": "12819675306827091975"
     },
     "user_tz": -480
    },
    "id": "Ngohgmad5CYN",
    "outputId": "1aa82ef9-2578-4574-9948-9fdc2faf5bc2"
   },
   "outputs": [
    {
     "name": "stdout",
     "output_type": "stream",
     "text": [
      "Simple Fucntion 55\n",
      "Sqr fucntion 385\n",
      "Cube fucntion 3025\n"
     ]
    }
   ],
   "source": [
    "# callable functions as argument\n",
    "# Method will call another fuction to compute the value such as squre of a number, cube of number, and etc\n",
    "# Replacing with lambda fucntions\n",
    "\n",
    "## Lamda fucntions is comes with limitations\n",
    "def compute( func, lb, ub):\n",
    "    total = 0\n",
    "    while ( lb <= ub):\n",
    "        total += func(lb)\n",
    "        lb+=1\n",
    "    return total\n",
    "\n",
    "print(\"Simple Fucntion\" , compute(lambda i: i, 1, 10))\n",
    "print(\"Sqr fucntion\", compute(lambda i: i*i, 1, 10))\n",
    "print(\"Cube fucntion\", compute(lambda i: i*i*i, 1, 10))"
   ]
  },
  {
   "cell_type": "markdown",
   "metadata": {
    "colab_type": "text",
    "id": "ajJZUk6-5CYQ",
    "raw_mimetype": "text/x-python"
   },
   "source": [
    "### Collections"
   ]
  },
  {
   "cell_type": "markdown",
   "metadata": {
    "colab_type": "text",
    "id": "j620aLtj5CYR"
   },
   "source": [
    "### List Collections basics"
   ]
  },
  {
   "cell_type": "code",
   "execution_count": 0,
   "metadata": {
    "colab": {
     "base_uri": "https://localhost:8080/",
     "height": 187
    },
    "colab_type": "code",
    "executionInfo": {
     "elapsed": 1399,
     "status": "ok",
     "timestamp": 1566973448293,
     "user": {
      "displayName": "Kamesh C",
      "photoUrl": "https://lh3.googleusercontent.com/a-/AAuE7mCaxGNZrKO-WLbWFklLflG-0EzrFygEkBK57F_sZw=s64",
      "userId": "12819675306827091975"
     },
     "user_tz": -480
    },
    "id": "DWsvNep05CYS",
    "outputId": "c6767284-80ce-4d1e-bdf4-5a51e9013f79"
   },
   "outputs": [
    {
     "name": "stdout",
     "output_type": "stream",
     "text": [
      "[11, 1, 3, 2, 4, 6]\n",
      "<class 'list'>\n",
      "first element- 11\n",
      "first element- 6\n",
      "3 to end- [2, 4, 6]\n",
      "first to 3- [11, 1, 3]\n",
      "Reverse the list- [6, 4, 2, 3, 1, 11]\n",
      "Alternative the list- [11, 3, 4]\n",
      "Filter from firts to third and last element 3\n",
      "Filter from firts to third and reverse order [3, 1, 11]\n"
     ]
    }
   ],
   "source": [
    "#List - allows deplicate values\n",
    "\n",
    "listColl = [11,1,3,2,4,6]\n",
    "print(listColl)\n",
    "print(type(listColl))\n",
    "\n",
    "# Printing single index value\n",
    "print(\"first element-\", listColl[0])\n",
    "\n",
    "# Printing last element of the index \n",
    "print(\"first element-\", listColl[-1])\n",
    "\n",
    "#Return from 3 index to end\n",
    "print(\"3 to end-\", listColl[3:])\n",
    "\n",
    "#Return from first index to 3 index (upper boundry)\n",
    "print(\"first to 3-\", listColl[:3])\n",
    "\n",
    "#Return from Reverse if give index\n",
    "print(\"Reverse the list-\", listColl[::-1])\n",
    "\n",
    "#Return alternative values from list\n",
    "print(\"Alternative the list-\", listColl[::2])\n",
    "\n",
    "#Return filter the elements from first to third and select last index element\n",
    "print(\"Filter from firts to third and last element\", listColl[:3][-1])\n",
    "\n",
    "#Return filter the elements from first to third and print reverse order\n",
    "print(\"Filter from firts to third and reverse order\", listColl[:3][::-1])\n",
    "\n"
   ]
  },
  {
   "cell_type": "markdown",
   "metadata": {
    "colab_type": "text",
    "id": "QzdiSQoP5CYU"
   },
   "source": [
    "### List Collections with another list Operations"
   ]
  },
  {
   "cell_type": "code",
   "execution_count": 0,
   "metadata": {
    "colab": {
     "base_uri": "https://localhost:8080/",
     "height": 119
    },
    "colab_type": "code",
    "executionInfo": {
     "elapsed": 902,
     "status": "ok",
     "timestamp": 1566973451633,
     "user": {
      "displayName": "Kamesh C",
      "photoUrl": "https://lh3.googleusercontent.com/a-/AAuE7mCaxGNZrKO-WLbWFklLflG-0EzrFygEkBK57F_sZw=s64",
      "userId": "12819675306827091975"
     },
     "user_tz": -480
    },
    "id": "JCzA6w055CYV",
    "outputId": "3bfb9adc-2905-40cd-8f47-510beb06b4ef"
   },
   "outputs": [
    {
     "name": "stdout",
     "output_type": "stream",
     "text": [
      "comparing new list is greater than give list -  False\n",
      "comparing new list is lesser than give list -  False\n",
      "comparing new list is less than and equals give list -  True\n",
      "[11, 1, 3, 4, 6]\n",
      "[11, 1, 3, 4, 6, 100]\n",
      "[100, 99, 98, 97, 1, 2, 3, 4]\n"
     ]
    }
   ],
   "source": [
    "#listColl.sort\n",
    "#Comparing multiple list operations\n",
    "listColl = [11,1,3,2,4,6]\n",
    "newList = [11,1,3,2,4,6]\n",
    "print(\"comparing new list is greater than give list - \", newList > listColl)\n",
    "print(\"comparing new list is lesser than give list - \", newList < listColl)\n",
    "print(\"comparing new list is less than and equals give list - \", newList <= listColl)\n",
    "\n",
    "#remove element from an array\n",
    "newList = [11,1,3,2,4,6]\n",
    "newList.pop(3)\n",
    "print(newList) # 2 value is removed from the give list\n",
    "newList.append(100)\n",
    "print(newList) # added new value at the last\n",
    "\n",
    "# Adding new collctions and removing operations \n",
    "firstList = [100, 99, 98, 97]\n",
    "secondList = [1, 2, 3, 4]\n",
    "\n",
    "print(firstList+secondList)"
   ]
  },
  {
   "cell_type": "markdown",
   "metadata": {
    "colab_type": "text",
    "id": "qwgxgc6J5CYX"
   },
   "source": [
    "### Set Collections "
   ]
  },
  {
   "cell_type": "code",
   "execution_count": 0,
   "metadata": {
    "colab": {
     "base_uri": "https://localhost:8080/",
     "height": 187
    },
    "colab_type": "code",
    "executionInfo": {
     "elapsed": 753,
     "status": "ok",
     "timestamp": 1566973456155,
     "user": {
      "displayName": "Kamesh C",
      "photoUrl": "https://lh3.googleusercontent.com/a-/AAuE7mCaxGNZrKO-WLbWFklLflG-0EzrFygEkBK57F_sZw=s64",
      "userId": "12819675306827091975"
     },
     "user_tz": -480
    },
    "id": "7nXKN0p35CYY",
    "outputId": "1f199440-6c1a-4dff-92e2-1f2757a44785",
    "scrolled": false
   },
   "outputs": [
    {
     "name": "stdout",
     "output_type": "stream",
     "text": [
      "set values {1, 2, 3, 4, 6, 11}\n",
      "internal type <class 'set'>\n",
      "new set values {10, 4, 6}\n",
      "internal type <class 'set'>\n",
      "comparing new set is greater than give set -  False\n",
      "comparing new set is lesser than give set -  False\n",
      "comparing new set is less than and equals give set -  False\n",
      "Inter Sections  {4, 6}\n",
      "Union  {1, 2, 3, 4, 6, 10, 11}\n",
      "Difference in two set {11, 1, 2, 3}\n"
     ]
    }
   ],
   "source": [
    "listColl = [11,1,3,2,4,6]\n",
    "#converting List to distict set and also its sorted \n",
    "setColl = set(listColl)\n",
    "print(\"set values\", setColl)\n",
    "print(\"internal type\", type(setColl))\n",
    "# To get all the methods are permitted\n",
    "#help(set)\n",
    "\n",
    "newSet = {4,6, 10}\n",
    "print(\"new set values\", newSet)\n",
    "print(\"internal type\", type(newSet))\n",
    "print(\"comparing new set is greater than give set - \", newSet > setColl)\n",
    "print(\"comparing new set is lesser than give set - \", newSet < setColl)\n",
    "print(\"comparing new set is less than and equals give set - \", newSet <= setColl)\n",
    "\n",
    "print(\"Inter Sections \", setColl.intersection(newSet))\n",
    "\n",
    "print(\"Union \", setColl.union(newSet))\n",
    "\n",
    "print(\"Difference in two set\", setColl.difference(newSet))"
   ]
  },
  {
   "cell_type": "markdown",
   "metadata": {
    "colab_type": "text",
    "id": "bNjZlcXp5CYa"
   },
   "source": [
    "## Dictionaries"
   ]
  },
  {
   "cell_type": "code",
   "execution_count": 0,
   "metadata": {
    "colab": {
     "base_uri": "https://localhost:8080/",
     "height": 153
    },
    "colab_type": "code",
    "executionInfo": {
     "elapsed": 735,
     "status": "ok",
     "timestamp": 1566973461835,
     "user": {
      "displayName": "Kamesh C",
      "photoUrl": "https://lh3.googleusercontent.com/a-/AAuE7mCaxGNZrKO-WLbWFklLflG-0EzrFygEkBK57F_sZw=s64",
      "userId": "12819675306827091975"
     },
     "user_tz": -480
    },
    "id": "cK8eePUa5CYb",
    "outputId": "63fe8426-5205-4e35-c843-19656f8ec897"
   },
   "outputs": [
    {
     "name": "stdout",
     "output_type": "stream",
     "text": [
      "<class 'dict'>\n",
      "first keys value kamesh\n",
      "dict_keys([1, 2])\n",
      "<class 'dict'>\n",
      "first keys value by string kamesh\n",
      "<class 'dict'>\n",
      "dict_keys(['firstname', 'lastname'])\n",
      "first keys value by string chandran\n"
     ]
    }
   ],
   "source": [
    "# Dictionary using index similer to Java HashMap\n",
    "dictColl = {1: \"kamesh\", 2: \"c\"}\n",
    "print(type(dictColl))\n",
    "print(\"first keys value\", dictColl[1])\n",
    "print(dictColl.keys())\n",
    "dictColl = {\"firstname\": \"kamesh\", \"lastname\": \"c\"}\n",
    "print(type(dictColl))\n",
    "print(\"first keys value by string\",dictColl[\"firstname\"])\n",
    "\n",
    "#Key should be unique - if there multiple values is available with same key\n",
    "# Last key will be replaced with\n",
    "dictColl = {\"firstname\": \"kamesh\", \"lastname\": \"c\", \"lastname\": \"chandran\"}\n",
    "print(type(dictColl))\n",
    "print(dictColl.keys())\n",
    "print(\"first keys value by string\",dictColl[\"lastname\"])"
   ]
  },
  {
   "cell_type": "code",
   "execution_count": 0,
   "metadata": {
    "colab": {
     "base_uri": "https://localhost:8080/",
     "height": 51
    },
    "colab_type": "code",
    "executionInfo": {
     "elapsed": 749,
     "status": "ok",
     "timestamp": 1566973464266,
     "user": {
      "displayName": "Kamesh C",
      "photoUrl": "https://lh3.googleusercontent.com/a-/AAuE7mCaxGNZrKO-WLbWFklLflG-0EzrFygEkBK57F_sZw=s64",
      "userId": "12819675306827091975"
     },
     "user_tz": -480
    },
    "id": "EyT0GQS35CYf",
    "outputId": "33969ba8-4521-430f-85df-6cc58cd0f58e"
   },
   "outputs": [
    {
     "name": "stdout",
     "output_type": "stream",
     "text": [
      "firstname Key is available True\n",
      "companyname Key is available False\n"
     ]
    }
   ],
   "source": [
    "dictColl = {\"firstname\": \"kamesh\", \"lastname\": \"c\", \"lastname\": \"chandran\"}\n",
    "#Available key\n",
    "print( \"firstname Key is available\", \"firstname\" in dictColl)\n",
    "#Not available key\n",
    "print( \"companyname Key is available\",\"companyname\" in dictColl)"
   ]
  },
  {
   "cell_type": "code",
   "execution_count": 0,
   "metadata": {
    "colab": {
     "base_uri": "https://localhost:8080/",
     "height": 51
    },
    "colab_type": "code",
    "executionInfo": {
     "elapsed": 746,
     "status": "ok",
     "timestamp": 1566993287858,
     "user": {
      "displayName": "Kamesh C",
      "photoUrl": "https://lh3.googleusercontent.com/a-/AAuE7mCaxGNZrKO-WLbWFklLflG-0EzrFygEkBK57F_sZw=s64",
      "userId": "12819675306827091975"
     },
     "user_tz": -480
    },
    "id": "wUvrWdVK5CYl",
    "outputId": "23e27d07-8385-4549-d113-25fad2f4558a"
   },
   "outputs": [
    {
     "name": "stdout",
     "output_type": "stream",
     "text": [
      "with out map, filter and reduce 161700\n",
      "with lamda fucntions 161700\n"
     ]
    }
   ],
   "source": [
    "from functools import reduce\n",
    "# Map Reduce options\n",
    "total=0\n",
    "l = range(1,100)\n",
    "for i in l:\n",
    "  if (i%2 == 0):\n",
    "    total += i * i\n",
    "print(\"with out map, filter and reduce\", total)\n",
    "\n",
    "f= filter(lambda i: i%2==0, l)\n",
    "m= map(lambda i: i*i, f)\n",
    "r= reduce(lambda total, element: total + element, m)\n",
    "\n",
    "print (\"with lamda fucntions\", r)\n",
    "\n",
    "#functools.reduce(lambda x, y: x+y, range(1,101))"
   ]
  },
  {
   "cell_type": "code",
   "execution_count": 0,
   "metadata": {
    "colab": {
     "base_uri": "https://localhost:8080/",
     "height": 68
    },
    "colab_type": "code",
    "executionInfo": {
     "elapsed": 919,
     "status": "ok",
     "timestamp": 1567068405265,
     "user": {
      "displayName": "Kamesh C",
      "photoUrl": "https://lh3.googleusercontent.com/a-/AAuE7mCaxGNZrKO-WLbWFklLflG-0EzrFygEkBK57F_sZw=s64",
      "userId": "12819675306827091975"
     },
     "user_tz": -480
    },
    "id": "VdzakJGh5CYn",
    "outputId": "c205c2fa-2761-4601-8201-4419dcec186b"
   },
   "outputs": [
    {
     "name": "stdout",
     "output_type": "stream",
     "text": [
      "<filter object at 0x7fb2a0ab30f0>\n",
      "<map object at 0x7fb2a0ab1898>\n",
      "999.77\n"
     ]
    }
   ],
   "source": [
    "from functools import reduce\n",
    "#Reading a file from directive\n",
    "\n",
    "orderItemsFile = open(\"/content/part-00000.txt\", \"r\")\n",
    "# Reading the file \n",
    "orderItemsRead= orderItemsFile.read()\n",
    "# Spliting the lines and makeing it as array\n",
    "orderItems = orderItemsRead.splitlines()\n",
    "# Filtering the data which is having 2nd column is == 68880\n",
    "orderItemsFilter = filter(lambda rec: int(rec.split(\",\")[1]) ==68880, orderItems)\n",
    "print(orderItemsFilter)\n",
    "# Map the 5 column value \n",
    "orderItemsMap = map(lambda rec: float(rec.split(\",\")[4]), orderItemsFilter)\n",
    "print(orderItemsMap)\n",
    "# Accumalate the mappend column for evaluations\n",
    "orderItemsReduce = reduce(lambda total, element: total + element, orderItemsMap)\n",
    "\n",
    "print(orderItemsReduce)"
   ]
  }
 ],
 "metadata": {
  "celltoolbar": "Raw Cell Format",
  "colab": {
   "collapsed_sections": [],
   "name": "Python Learning.ipynb",
   "provenance": [],
   "toc_visible": true,
   "version": "0.3.2"
  },
  "kernelspec": {
   "display_name": "Python 3",
   "language": "python",
   "name": "python3"
  },
  "language_info": {
   "codemirror_mode": {
    "name": "ipython",
    "version": 3
   },
   "file_extension": ".py",
   "mimetype": "text/x-python",
   "name": "python",
   "nbconvert_exporter": "python",
   "pygments_lexer": "ipython3",
   "version": "3.7.3"
  }
 },
 "nbformat": 4,
 "nbformat_minor": 1
}
